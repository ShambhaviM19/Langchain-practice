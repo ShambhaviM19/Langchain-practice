{
 "cells": [
  {
   "cell_type": "code",
   "execution_count": 1,
   "metadata": {},
   "outputs": [],
   "source": [
    "from langchain_chroma import Chroma\n",
    "from langchain_community.document_loaders import TextLoader\n",
    "from langchain_community.vectorstores import FAISS\n",
    "from langchain_community.embeddings import OllamaEmbeddings\n",
    "from langchain_text_splitters import RecursiveCharacterTextSplitter"
   ]
  },
  {
   "cell_type": "code",
   "execution_count": 2,
   "metadata": {},
   "outputs": [],
   "source": [
    "loader=TextLoader(\"speech.txt\")\n",
    "docs=loader.load()"
   ]
  },
  {
   "cell_type": "code",
   "execution_count": 3,
   "metadata": {},
   "outputs": [],
   "source": [
    "text_splitter=RecursiveCharacterTextSplitter(chunk_size=100,chunk_overlap=0)\n",
    "final_docs=text_splitter.split_documents(docs)\n"
   ]
  },
  {
   "cell_type": "code",
   "execution_count": 6,
   "metadata": {},
   "outputs": [],
   "source": [
    "embeddings=OllamaEmbeddings()\n",
    "db=Chroma.from_documents(final_docs,embeddings)"
   ]
  },
  {
   "cell_type": "code",
   "execution_count": 7,
   "metadata": {},
   "outputs": [
    {
     "data": {
      "text/plain": [
       "[Document(metadata={'source': 'speech.txt'}, page_content='Happy Independence Day!'),\n",
       " Document(metadata={'source': 'speech.txt'}, page_content='But with this freedom comes responsibility. We must honor the legacy of those who fought before us'),\n",
       " Document(metadata={'source': 'speech.txt'}, page_content='of a brighter tomorrow, and the freedom to shape our destiny. It is the ability to voice our'),\n",
       " Document(metadata={'source': 'speech.txt'}, page_content='Today, we gather to celebrate a monumental day in our historyâ€”our Independence Day. This is not')]"
      ]
     },
     "execution_count": 7,
     "metadata": {},
     "output_type": "execute_result"
    }
   ],
   "source": [
    "query=\"How does the speech link the past struggles for independence with the present and future obligations of the citizens?\"\n",
    "doc=db.similarity_search(query)\n",
    "doc"
   ]
  },
  {
   "cell_type": "code",
   "execution_count": 8,
   "metadata": {},
   "outputs": [],
   "source": [
    "vectordb=Chroma.from_documents(final_docs,embeddings,persist_directory=\"./chroma_db\")"
   ]
  },
  {
   "cell_type": "code",
   "execution_count": 9,
   "metadata": {},
   "outputs": [],
   "source": [
    "db2=Chroma(persist_directory=\"./chroma_db\",embedding_function=embeddings)\n",
    "docs=db2.similarity_search(query)"
   ]
  },
  {
   "cell_type": "code",
   "execution_count": 10,
   "metadata": {},
   "outputs": [
    {
     "data": {
      "text/plain": [
       "[Document(metadata={'source': 'speech.txt'}, page_content='Happy Independence Day!'),\n",
       " Document(metadata={'source': 'speech.txt'}, page_content='But with this freedom comes responsibility. We must honor the legacy of those who fought before us'),\n",
       " Document(metadata={'source': 'speech.txt'}, page_content='of a brighter tomorrow, and the freedom to shape our destiny. It is the ability to voice our'),\n",
       " Document(metadata={'source': 'speech.txt'}, page_content='Today, we gather to celebrate a monumental day in our historyâ€”our Independence Day. This is not')]"
      ]
     },
     "execution_count": 10,
     "metadata": {},
     "output_type": "execute_result"
    }
   ],
   "source": [
    "retreiver=db.as_retriever()\n",
    "retreiver.invoke(query)"
   ]
  }
 ],
 "metadata": {
  "kernelspec": {
   "display_name": "myenv",
   "language": "python",
   "name": "python3"
  },
  "language_info": {
   "codemirror_mode": {
    "name": "ipython",
    "version": 3
   },
   "file_extension": ".py",
   "mimetype": "text/x-python",
   "name": "python",
   "nbconvert_exporter": "python",
   "pygments_lexer": "ipython3",
   "version": "3.11.5"
  }
 },
 "nbformat": 4,
 "nbformat_minor": 2
}
