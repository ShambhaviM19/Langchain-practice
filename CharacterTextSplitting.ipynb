{
 "cells": [
  {
   "cell_type": "code",
   "execution_count": 3,
   "metadata": {},
   "outputs": [
    {
     "data": {
      "text/plain": [
       "[Document(metadata={'source': 'speech.txt'}, page_content='Today, we gather to celebrate a monumental day in our historyâ€”our Independence Day. This is not just a day marked by history but a living testament to the courage, sacrifice, and unyielding spirit of those who fought for the freedom we cherish today.\\n\\nIndependence is more than the mere absence of oppression; it is the presence of hope, the promise of a brighter tomorrow, and the freedom to shape our destiny. It is the ability to voice our opinions, pursue our dreams, and live with dignity.\\n\\nBut with this freedom comes responsibility. We must honor the legacy of those who fought before us by upholding the values of justice, equality, and unity. As we move forward, let us remember that our strength lies in our diversity, our resilience, and our shared commitment to building a better future for all.\\n\\nOn this day, let us recommit ourselves to the ideals of freedom and democracy. Let us work together to ensure that the torch of liberty continues to shine brightly for generations to come.\\n\\nHappy Independence Day!')]"
      ]
     },
     "execution_count": 3,
     "metadata": {},
     "output_type": "execute_result"
    }
   ],
   "source": [
    "from langchain_community.document_loaders import TextLoader\n",
    "loader=TextLoader('speech.txt')\n",
    "docs=text_document=loader.load()\n",
    "docs"
   ]
  },
  {
   "cell_type": "code",
   "execution_count": 9,
   "metadata": {},
   "outputs": [
    {
     "name": "stderr",
     "output_type": "stream",
     "text": [
      "Created a chunk of size 252, which is longer than the specified 50\n",
      "Created a chunk of size 242, which is longer than the specified 50\n",
      "Created a chunk of size 311, which is longer than the specified 50\n",
      "Created a chunk of size 188, which is longer than the specified 50\n"
     ]
    },
    {
     "data": {
      "text/plain": [
       "[Document(metadata={'source': 'speech.txt'}, page_content='Today, we gather to celebrate a monumental day in our historyâ€”our Independence Day. This is not just a day marked by history but a living testament to the courage, sacrifice, and unyielding spirit of those who fought for the freedom we cherish today.'),\n",
       " Document(metadata={'source': 'speech.txt'}, page_content='Independence is more than the mere absence of oppression; it is the presence of hope, the promise of a brighter tomorrow, and the freedom to shape our destiny. It is the ability to voice our opinions, pursue our dreams, and live with dignity.'),\n",
       " Document(metadata={'source': 'speech.txt'}, page_content='But with this freedom comes responsibility. We must honor the legacy of those who fought before us by upholding the values of justice, equality, and unity. As we move forward, let us remember that our strength lies in our diversity, our resilience, and our shared commitment to building a better future for all.'),\n",
       " Document(metadata={'source': 'speech.txt'}, page_content='On this day, let us recommit ourselves to the ideals of freedom and democracy. Let us work together to ensure that the torch of liberty continues to shine brightly for generations to come.'),\n",
       " Document(metadata={'source': 'speech.txt'}, page_content='Happy Independence Day!')]"
      ]
     },
     "execution_count": 9,
     "metadata": {},
     "output_type": "execute_result"
    }
   ],
   "source": [
    "from langchain_text_splitters import CharacterTextSplitter\n",
    "textsplitter=CharacterTextSplitter(separator=\"\\n\\n\",chunk_size=50,chunk_overlap=10)\n",
    "textsplitter.split_documents(docs)\n"
   ]
  },
  {
   "cell_type": "code",
   "execution_count": 13,
   "metadata": {},
   "outputs": [
    {
     "name": "stderr",
     "output_type": "stream",
     "text": [
      "Created a chunk of size 252, which is longer than the specified 50\n",
      "Created a chunk of size 242, which is longer than the specified 50\n",
      "Created a chunk of size 311, which is longer than the specified 50\n",
      "Created a chunk of size 188, which is longer than the specified 50\n"
     ]
    },
    {
     "name": "stdout",
     "output_type": "stream",
     "text": [
      "page_content='Today, we gather to celebrate a monumental day in our historyâ€”our Independence Day. This is not just a day marked by history but a living testament to the courage, sacrifice, and unyielding spirit of those who fought for the freedom we cherish today.'\n",
      "page_content='Independence is more than the mere absence of oppression; it is the presence of hope, the promise of a brighter tomorrow, and the freedom to shape our destiny. It is the ability to voice our opinions, pursue our dreams, and live with dignity.'\n"
     ]
    }
   ],
   "source": [
    "speech=\"\"\n",
    "with open('speech.txt') as f:\n",
    "    speech=f.read()\n",
    "\n",
    "from langchain_text_splitters import CharacterTextSplitter\n",
    "textsplitter=CharacterTextSplitter(chunk_size=50,chunk_overlap=30)\n",
    "text=textsplitter.create_documents([speech])\n",
    "print(text[0])\n",
    "print(text[1])"
   ]
  }
 ],
 "metadata": {
  "kernelspec": {
   "display_name": "myenv",
   "language": "python",
   "name": "python3"
  },
  "language_info": {
   "codemirror_mode": {
    "name": "ipython",
    "version": 3
   },
   "file_extension": ".py",
   "mimetype": "text/x-python",
   "name": "python",
   "nbconvert_exporter": "python",
   "pygments_lexer": "ipython3",
   "version": "3.11.5"
  }
 },
 "nbformat": 4,
 "nbformat_minor": 2
}
